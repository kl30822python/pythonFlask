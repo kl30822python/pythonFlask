{
 "cells": [
  {
   "cell_type": "code",
   "execution_count": 1,
   "metadata": {},
   "outputs": [
    {
     "ename": "ModuleNotFoundError",
     "evalue": "No module named 'pandas_datareader'",
     "output_type": "error",
     "traceback": [
      "\u001b[1;31m---------------------------------------------------------------------------\u001b[0m",
      "\u001b[1;31mModuleNotFoundError\u001b[0m                       Traceback (most recent call last)",
      "Cell \u001b[1;32mIn[1], line 1\u001b[0m\n\u001b[1;32m----> 1\u001b[0m \u001b[39mimport\u001b[39;00m \u001b[39mpandas_datareader\u001b[39;00m\u001b[39m.\u001b[39;00m\u001b[39mdata\u001b[39;00m \u001b[39mas\u001b[39;00m \u001b[39mpdr\u001b[39;00m\n\u001b[0;32m      2\u001b[0m \u001b[39mimport\u001b[39;00m \u001b[39myfinance\u001b[39;00m \u001b[39mas\u001b[39;00m \u001b[39myf\u001b[39;00m\n\u001b[0;32m      3\u001b[0m yf\u001b[39m.\u001b[39mpdr_override()\n",
      "\u001b[1;31mModuleNotFoundError\u001b[0m: No module named 'pandas_datareader'"
     ]
    }
   ],
   "source": [
    "import pandas_datareader.data as pdr\n",
    "import yfinance as yf\n",
    "yf.pdr_override()\n",
    "tw_1513 = pdr.get_data_yahoo('1513.TW') #徐老師 2303 聯電\n",
    "tw_1513_1 = tw_1513.reset_index()   #徐老師 2303 聯電\n",
    "tw_1513_1['Date'] = tw_1513_1['Date'].map(lambda x:f'{x.year}-{x.month}-{x.day}')   #徐老師 2303 聯電\n",
    "tw_1513_1   #徐老師 2303 聯電"
   ]
  },
  {
   "cell_type": "code",
   "execution_count": 19,
   "metadata": {},
   "outputs": [
    {
     "name": "stdout",
     "output_type": "stream",
     "text": [
      "讀取檔案\n",
      "<class 'pandas.core.frame.DataFrame'>\n",
      "RangeIndex: 5788 entries, 0 to 5787\n",
      "Data columns (total 7 columns):\n",
      " #   Column     Non-Null Count  Dtype  \n",
      "---  ------     --------------  -----  \n",
      " 0   Date       5788 non-null   object \n",
      " 1   Open       5788 non-null   float64\n",
      " 2   High       5788 non-null   float64\n",
      " 3   Low        5788 non-null   float64\n",
      " 4   Close      5788 non-null   float64\n",
      " 5   Adj Close  5788 non-null   float64\n",
      " 6   Volume     5788 non-null   int64  \n",
      "dtypes: float64(5), int64(1), object(1)\n",
      "memory usage: 316.7+ KB\n"
     ]
    },
    {
     "data": {
      "text/plain": [
       "RangeIndex(start=0, stop=5788, step=1)"
      ]
     },
     "execution_count": 19,
     "metadata": {},
     "output_type": "execute_result"
    }
   ],
   "source": [
    "import os\n",
    "from datetime import datetime\n",
    "import pandas as pd\n",
    "current = os.path.abspath(\"./\")\n",
    "current_date = datetime.now()\n",
    "stockid = \"1503.TW\"\n",
    "filename = f\"{stockid}_{current_date.year}_{current_date.month}_{current_date.day}.csv\"\n",
    "file_path = os.path.join(current,'data',filename)\n",
    "if not os.path.exists(file_path):\n",
    "    print(\"建立檔案\")\n",
    "else:\n",
    "    print(\"讀取檔案\")\n",
    "\n",
    "stock_dataFrame = pd.read_csv(file_path)\n",
    "stock_dataFrame.info()\n",
    "stock_dataFrame.index"
   ]
  }
 ],
 "metadata": {
  "kernelspec": {
   "display_name": "venv",
   "language": "python",
   "name": "python3"
  },
  "language_info": {
   "codemirror_mode": {
    "name": "ipython",
    "version": 3
   },
   "file_extension": ".py",
   "mimetype": "text/x-python",
   "name": "python",
   "nbconvert_exporter": "python",
   "pygments_lexer": "ipython3",
   "version": "3.8.6"
  },
  "orig_nbformat": 4
 },
 "nbformat": 4,
 "nbformat_minor": 2
}
